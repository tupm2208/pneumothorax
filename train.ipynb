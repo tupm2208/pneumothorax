{
 "metadata": {
  "language_info": {
   "codemirror_mode": {
    "name": "ipython",
    "version": 3
   },
   "file_extension": ".py",
   "mimetype": "text/x-python",
   "name": "python",
   "nbconvert_exporter": "python",
   "pygments_lexer": "ipython3",
   "version": "3.7.0-final"
  },
  "orig_nbformat": 2,
  "kernelspec": {
   "name": "Python 3.7.0 64-bit ('pneumothorax': conda)",
   "display_name": "Python 3.7.0 64-bit ('pneumothorax': conda)",
   "metadata": {
    "interpreter": {
     "hash": "01c72959eb8e0481d614395705e1060d0fc3e4a35997cd5924ab53076b7e8b97"
    }
   }
  }
 },
 "nbformat": 4,
 "nbformat_minor": 2,
 "cells": [
  {
   "cell_type": "code",
   "execution_count": 1,
   "metadata": {},
   "outputs": [],
   "source": [
    "import torch\n",
    "from torch.utils.data import DataLoader\n",
    "import torch.optim as optim\n",
    "import albumentations as albu \n",
    "\n",
    "from dataloaders import SIIMDataset\n",
    "from losses import ComboLoss, soft_dice_loss\n",
    "from models import AlbuNet\n",
    "from MaskBinarizers import TripletMaskBinarization\n",
    "import numpy as np\n",
    "import cv2"
   ]
  },
  {
   "cell_type": "code",
   "execution_count": 2,
   "metadata": {},
   "outputs": [],
   "source": [
    "device = torch.device('cuda:0')\n",
    "model = AlbuNet().to(device)\n",
    "# checkpoint_path = \"checkpoints/albunet_1024_fold0.pth\"\n",
    "# model.load_state_dict(torch.load(checkpoint_path))\n"
   ]
  },
  {
   "cell_type": "code",
   "execution_count": 3,
   "metadata": {},
   "outputs": [
    {
     "output_type": "stream",
     "name": "stdout",
     "text": [
      "number of sample:  20\nnumber of sample:  20\n"
     ]
    }
   ],
   "source": [
    "trainloader = DataLoader(\n",
    "    SIIMDataset(\"dataset\"),\n",
    "    batch_size=1,\n",
    "    num_workers=2,\n",
    "    pin_memory=True,\n",
    "    shuffle=True,\n",
    ")"
   ]
  },
  {
   "cell_type": "code",
   "execution_count": 4,
   "metadata": {},
   "outputs": [],
   "source": [
    "optimizer = optim.Adam(model.parameters(), lr=5e-2)\n",
    "criterion = ComboLoss({\n",
    "    'bce': 3,\n",
    "    'dice': 1,\n",
    "    'focal': 4\n",
    "})"
   ]
  },
  {
   "cell_type": "code",
   "execution_count": 5,
   "metadata": {},
   "outputs": [
    {
     "output_type": "stream",
     "name": "stderr",
     "text": [
      "Traceback (most recent call last):\nTraceback (most recent call last):\n  File \"/home/tupm/.conda/envs/pneumothorax/lib/python3.7/multiprocessing/queues.py\", line 242, in _feed\n    send_bytes(obj)\n  File \"/home/tupm/.conda/envs/pneumothorax/lib/python3.7/multiprocessing/connection.py\", line 200, in send_bytes\n    self._send_bytes(m[offset:offset + size])\n  File \"/home/tupm/.conda/envs/pneumothorax/lib/python3.7/multiprocessing/connection.py\", line 404, in _send_bytes\n    self._send(header + buf)\n  File \"/home/tupm/.conda/envs/pneumothorax/lib/python3.7/multiprocessing/connection.py\", line 368, in _send\n    n = write(self._handle, buf)\n  File \"/home/tupm/.conda/envs/pneumothorax/lib/python3.7/multiprocessing/queues.py\", line 242, in _feed\n    send_bytes(obj)\nBrokenPipeError: [Errno 32] Broken pipe\n  File \"/home/tupm/.conda/envs/pneumothorax/lib/python3.7/multiprocessing/connection.py\", line 200, in send_bytes\n    self._send_bytes(m[offset:offset + size])\n  File \"/home/tupm/.conda/envs/pneumothorax/lib/python3.7/multiprocessing/connection.py\", line 404, in _send_bytes\n    self._send(header + buf)\n  File \"/home/tupm/.conda/envs/pneumothorax/lib/python3.7/multiprocessing/connection.py\", line 368, in _send\n    n = write(self._handle, buf)\nBrokenPipeError: [Errno 32] Broken pipe\n"
     ]
    },
    {
     "output_type": "error",
     "ename": "KeyboardInterrupt",
     "evalue": "",
     "traceback": [
      "\u001b[0;31m---------------------------------------------------------------------------\u001b[0m",
      "\u001b[0;31mKeyboardInterrupt\u001b[0m                         Traceback (most recent call last)",
      "\u001b[0;32m<ipython-input-5-dcf3bb4c6e82>\u001b[0m in \u001b[0;36m<module>\u001b[0;34m\u001b[0m\n\u001b[1;32m      8\u001b[0m     \u001b[0mcv2\u001b[0m\u001b[0;34m.\u001b[0m\u001b[0mimshow\u001b[0m\u001b[0;34m(\u001b[0m\u001b[0;34m\"\"\u001b[0m\u001b[0;34m,\u001b[0m \u001b[0mms\u001b[0m\u001b[0;34m)\u001b[0m\u001b[0;34m\u001b[0m\u001b[0m\n\u001b[1;32m      9\u001b[0m     \u001b[0mcv2\u001b[0m\u001b[0;34m.\u001b[0m\u001b[0mimshow\u001b[0m\u001b[0;34m(\u001b[0m\u001b[0;34m\"original\"\u001b[0m\u001b[0;34m,\u001b[0m \u001b[0mnp\u001b[0m\u001b[0;34m.\u001b[0m\u001b[0mreshape\u001b[0m\u001b[0;34m(\u001b[0m\u001b[0mmasks\u001b[0m\u001b[0;34m.\u001b[0m\u001b[0mdetach\u001b[0m\u001b[0;34m(\u001b[0m\u001b[0;34m)\u001b[0m\u001b[0;34m.\u001b[0m\u001b[0mnumpy\u001b[0m\u001b[0;34m(\u001b[0m\u001b[0;34m)\u001b[0m\u001b[0;34m,\u001b[0m \u001b[0;34m(\u001b[0m\u001b[0;36m1024\u001b[0m\u001b[0;34m,\u001b[0m \u001b[0;36m1024\u001b[0m\u001b[0;34m)\u001b[0m\u001b[0;34m)\u001b[0m\u001b[0;34m)\u001b[0m\u001b[0;34m\u001b[0m\u001b[0m\n\u001b[0;32m---> 10\u001b[0;31m     \u001b[0mcv2\u001b[0m\u001b[0;34m.\u001b[0m\u001b[0mwaitKey\u001b[0m\u001b[0;34m(\u001b[0m\u001b[0;36m0\u001b[0m\u001b[0;34m)\u001b[0m\u001b[0;34m\u001b[0m\u001b[0m\n\u001b[0m",
      "\u001b[0;31mKeyboardInterrupt\u001b[0m: "
     ]
    }
   ],
   "source": [
    "for idx, batch in enumerate(trainloader):\n",
    "    images, masks = batch\n",
    "    images = images.to(device).type(torch.float32)\n",
    "    out = model(images)\n",
    "    out = torch.sigmoid(out) \n",
    "    ms = np.reshape(out.cpu().detach().numpy(), (1024, 1024))\n",
    "    ms = np.where(ms > 0.5, 1, 0).astype(np.float32)\n",
    "    cv2.imshow(\"\", ms)\n",
    "    cv2.imshow(\"original\", np.reshape(masks.detach().numpy(), (1024, 1024)))\n",
    "    cv2.waitKey(0)"
   ]
  },
  {
   "cell_type": "code",
   "execution_count": 6,
   "metadata": {},
   "outputs": [],
   "source": [
    "cv2.destroyAllWindows()"
   ]
  },
  {
   "cell_type": "code",
   "execution_count": null,
   "metadata": {},
   "outputs": [],
   "source": []
  },
  {
   "cell_type": "code",
   "execution_count": 5,
   "metadata": {
    "tags": []
   },
   "outputs": [
    {
     "output_type": "stream",
     "name": "stdout",
     "text": [
      "[tensor(0.0128), tensor(0.), tensor(0.), tensor(0.), tensor(0.), tensor(0.), tensor(0.), tensor(0.), tensor(0.0127)]\n",
      "epoch: 1 |step: 0 | loss: 3.815274953842163 | dice score: 0.012812972068786621\n",
      "[tensor(0.), tensor(0.), tensor(0.), tensor(0.), tensor(0.), tensor(0.), tensor(0.), tensor(0.), tensor(0.0040)]\n",
      "epoch: 1 |step: 10 | loss: 1.354801893234253 | dice score: 0.003978371620178223\n",
      "[tensor(0.), tensor(0.), tensor(0.), tensor(0.), tensor(0.), tensor(0.), tensor(0.), tensor(0.), tensor(0.0251)]\n",
      "epoch: 2 |step: 0 | loss: 1.2325290441513062 | dice score: 0.0250777006149292\n",
      "[tensor(0.), tensor(0.), tensor(0.), tensor(0.), tensor(0.), tensor(0.), tensor(0.), tensor(0.), tensor(0.0041)]\n",
      "epoch: 2 |step: 10 | loss: 1.2768938541412354 | dice score: 0.004060924053192139\n",
      "[tensor(0.), tensor(0.), tensor(0.), tensor(0.), tensor(0.), tensor(0.), tensor(0.), tensor(0.), tensor(0.0086)]\n",
      "epoch: 3 |step: 0 | loss: 1.1808090209960938 | dice score: 0.008571088314056396\n",
      "[tensor(0.), tensor(0.), tensor(0.), tensor(0.), tensor(0.), tensor(0.), tensor(0.), tensor(0.), tensor(0.0569)]\n",
      "epoch: 3 |step: 10 | loss: 1.8286900520324707 | dice score: 0.056879401206970215\n",
      "[tensor(0.), tensor(0.), tensor(0.), tensor(0.), tensor(0.), tensor(0.), tensor(0.), tensor(0.), tensor(0.0491)]\n",
      "epoch: 4 |step: 0 | loss: 1.5021586418151855 | dice score: 0.04911470413208008\n",
      "[tensor(0.), tensor(0.), tensor(0.), tensor(0.), tensor(0.), tensor(0.), tensor(0.), tensor(0.), tensor(0.0063)]\n",
      "epoch: 4 |step: 10 | loss: 1.1189017295837402 | dice score: 0.0063169002532958984\n",
      "[tensor(0.), tensor(0.), tensor(0.), tensor(0.), tensor(0.), tensor(0.), tensor(0.), tensor(0.), tensor(0.0310)]\n",
      "epoch: 5 |step: 0 | loss: 1.216408371925354 | dice score: 0.03098362684249878\n",
      "[tensor(0.), tensor(0.), tensor(0.), tensor(0.), tensor(0.), tensor(0.), tensor(0.), tensor(0.), tensor(0.0075)]\n",
      "epoch: 5 |step: 10 | loss: 1.2418004274368286 | dice score: 0.0074645280838012695\n",
      "[tensor(0.), tensor(0.), tensor(0.), tensor(0.), tensor(0.), tensor(0.), tensor(0.), tensor(0.), tensor(0.0146)]\n",
      "epoch: 6 |step: 0 | loss: 1.5022836923599243 | dice score: 0.014617085456848145\n",
      "[tensor(0.), tensor(0.), tensor(0.), tensor(0.), tensor(0.), tensor(0.), tensor(0.), tensor(0.), tensor(0.0426)]\n",
      "epoch: 6 |step: 10 | loss: 1.1930382251739502 | dice score: 0.042629897594451904\n",
      "[tensor(0.), tensor(0.), tensor(0.), tensor(0.), tensor(0.), tensor(0.), tensor(0.), tensor(0.), tensor(0.0050)]\n",
      "epoch: 7 |step: 0 | loss: 1.1694869995117188 | dice score: 0.004976212978363037\n",
      "[tensor(0.), tensor(0.), tensor(0.), tensor(0.), tensor(0.), tensor(0.), tensor(0.), tensor(0.), tensor(0.0086)]\n",
      "epoch: 7 |step: 10 | loss: 1.6154930591583252 | dice score: 0.008649349212646484\n",
      "[tensor(0.), tensor(0.), tensor(0.), tensor(0.), tensor(0.), tensor(0.), tensor(0.), tensor(0.), tensor(0.0263)]\n",
      "epoch: 8 |step: 0 | loss: 1.1715165376663208 | dice score: 0.026299595832824707\n",
      "[tensor(0.), tensor(0.), tensor(0.), tensor(0.), tensor(0.), tensor(0.), tensor(0.), tensor(0.), tensor(0.1240)]\n",
      "epoch: 8 |step: 10 | loss: 1.8762454986572266 | dice score: 0.12400484085083008\n",
      "[tensor(0.), tensor(0.), tensor(0.), tensor(0.), tensor(0.), tensor(0.), tensor(0.), tensor(0.), tensor(0.0643)]\n",
      "epoch: 9 |step: 0 | loss: 1.1004643440246582 | dice score: 0.06426668167114258\n",
      "[tensor(0.), tensor(0.), tensor(0.), tensor(0.), tensor(0.), tensor(0.), tensor(0.), tensor(0.), tensor(0.0043)]\n",
      "epoch: 9 |step: 10 | loss: 1.30714750289917 | dice score: 0.004327952861785889\n",
      "[tensor(0.), tensor(0.), tensor(0.), tensor(0.), tensor(0.), tensor(0.), tensor(0.), tensor(0.), tensor(0.0050)]\n",
      "epoch: 10 |step: 0 | loss: 1.1588656902313232 | dice score: 0.0050324201583862305\n",
      "[tensor(0.), tensor(0.), tensor(0.), tensor(0.), tensor(0.), tensor(0.), tensor(0.), tensor(0.), tensor(0.1062)]\n",
      "epoch: 10 |step: 10 | loss: 1.725696325302124 | dice score: 0.10615330934524536\n"
     ]
    }
   ],
   "source": [
    "num_epochs = 10\n",
    "grad_accum = 1\n",
    "triplets = [[0.5, 100, 0.3], [0.75, 1000, 0.4], [0.75, 2000, 0.3], [0.75, 2000, 0.4], [0.6, 2000, 0.3], [0.6, 2000, 0.4], [0.6, 3000, 0.3], [0.6, 3000, 0.4]]\n",
    "binarizer_fn = TripletMaskBinarization(triplets)\n",
    "for epoch in range(num_epochs):\n",
    "    for itr, batch in enumerate(trainloader):\n",
    "        images, targets = batch\n",
    "        images = images.to(device).type(torch.float32)\n",
    "        masks = targets.to(device)\n",
    "\n",
    "        outputs = model(images)\n",
    "        loss = criterion(outputs, masks)\n",
    "        loss.backward()\n",
    "        # optimizer.step()\n",
    "        # optimizer.zero_grad()\n",
    "\n",
    "        if itr % grad_accum == grad_accum - 1:\n",
    "            optimizer.step()\n",
    "            optimizer.zero_grad()\n",
    "\n",
    "        outputs = outputs.detach().cpu()\n",
    "        # meter.update(targets, outputs)\n",
    "        if itr % 1 == 0:\n",
    "            outputs = torch.sigmoid(outputs)\n",
    "            corrected_mask = binarizer_fn.transform(outputs)\n",
    "\n",
    "            dices = [1 - soft_dice_loss(e.type(torch.float32), targets, per_image=True) for e in corrected_mask]\n",
    "            dices.append(1-soft_dice_loss(outputs, targets))\n",
    "            print(dices)\n",
    "            print(f\"epoch: {epoch+1} |step: {itr} | loss: {loss.item()} | dice score: {max(dices)}\")"
   ]
  },
  {
   "cell_type": "code",
   "execution_count": null,
   "metadata": {},
   "outputs": [],
   "source": [
    "for e in corrected_mask:\n",
    "    print(e.shape)"
   ]
  },
  {
   "cell_type": "code",
   "execution_count": null,
   "metadata": {},
   "outputs": [],
   "source": []
  }
 ]
}