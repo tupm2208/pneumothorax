{
 "metadata": {
  "language_info": {
   "codemirror_mode": {
    "name": "ipython",
    "version": 3
   },
   "file_extension": ".py",
   "mimetype": "text/x-python",
   "name": "python",
   "nbconvert_exporter": "python",
   "pygments_lexer": "ipython3",
   "version": "3.7.0-final"
  },
  "orig_nbformat": 2,
  "kernelspec": {
   "name": "Python 3.7.0 64-bit ('pneumothorax': conda)",
   "display_name": "Python 3.7.0 64-bit ('pneumothorax': conda)",
   "metadata": {
    "interpreter": {
     "hash": "01c72959eb8e0481d614395705e1060d0fc3e4a35997cd5924ab53076b7e8b97"
    }
   }
  }
 },
 "nbformat": 4,
 "nbformat_minor": 2,
 "cells": [
  {
   "cell_type": "code",
   "execution_count": 1,
   "metadata": {},
   "outputs": [],
   "source": [
    "import torch\n",
    "from torch.utils.data import DataLoader\n",
    "import torch.optim as optim\n",
    "import albumentations as albu \n",
    "\n",
    "from dataloaders import SIIMDataset\n",
    "from losses import ComboLoss, soft_dice_loss\n",
    "from models import AlbuNet\n",
    "from MaskBinarizers import TripletMaskBinarization\n",
    "import numpy as np\n",
    "import cv2"
   ]
  },
  {
   "cell_type": "code",
   "execution_count": 2,
   "metadata": {},
   "outputs": [
    {
     "output_type": "execute_result",
     "data": {
      "text/plain": [
       "IncompatibleKeys(missing_keys=[], unexpected_keys=[])"
      ]
     },
     "metadata": {},
     "execution_count": 2
    }
   ],
   "source": [
    "device = torch.device('cuda:0')\n",
    "model = AlbuNet().to(device)\n",
    "checkpoint_path = \"checkpoints/albunet_1024_fold0.pth\"\n",
    "model.load_state_dict(torch.load(checkpoint_path))\n"
   ]
  },
  {
   "cell_type": "code",
   "execution_count": 3,
   "metadata": {},
   "outputs": [
    {
     "output_type": "stream",
     "name": "stdout",
     "text": [
      "number of sample:  2379\nnumber of sample:  2379\n"
     ]
    }
   ],
   "source": [
    "trainloader = DataLoader(\n",
    "    SIIMDataset(\"dataset\"),\n",
    "    batch_size=1,\n",
    "    num_workers=2,\n",
    "    pin_memory=True,\n",
    "    shuffle=True,\n",
    ")"
   ]
  },
  {
   "cell_type": "code",
   "execution_count": 4,
   "metadata": {},
   "outputs": [],
   "source": [
    "optimizer = optim.Adam(model.parameters(), lr=5e-4)\n",
    "criterion = ComboLoss({\n",
    "    'bce': 3,\n",
    "    'dice': 1,\n",
    "    'focal': 4\n",
    "})"
   ]
  },
  {
   "cell_type": "code",
   "execution_count": 7,
   "metadata": {},
   "outputs": [
    {
     "output_type": "stream",
     "name": "stdout",
     "text": [
      "torch.Size([1, 3, 1024, 1024])\n",
      "torch.Size([1, 3, 1024, 1024])\n",
      "torch.Size([1, 3, 1024, 1024])\n",
      "torch.Size([1, 3, 1024, 1024])\n",
      "torch.Size([1, 3, 1024, 1024])\n",
      "torch.Size([1, 3, 1024, 1024])\n",
      "torch.Size([1, 3, 1024, 1024])\n",
      "torch.Size([1, 3, 1024, 1024])\n",
      "torch.Size([1, 3, 1024, 1024])\n",
      "torch.Size([1, 3, 1024, 1024])\n",
      "torch.Size([1, 3, 1024, 1024])\n",
      "torch.Size([1, 3, 1024, 1024])\n",
      "torch.Size([1, 3, 1024, 1024])\n",
      "torch.Size([1, 3, 1024, 1024])\n",
      "torch.Size([1, 3, 1024, 1024])\n",
      "torch.Size([1, 3, 1024, 1024])\n",
      "torch.Size([1, 3, 1024, 1024])\n",
      "torch.Size([1, 3, 1024, 1024])\n",
      "torch.Size([1, 3, 1024, 1024])\n",
      "torch.Size([1, 3, 1024, 1024])\n",
      "torch.Size([1, 3, 1024, 1024])\n",
      "torch.Size([1, 3, 1024, 1024])\n",
      "torch.Size([1, 3, 1024, 1024])\n",
      "torch.Size([1, 3, 1024, 1024])\n",
      "torch.Size([1, 3, 1024, 1024])\n",
      "torch.Size([1, 3, 1024, 1024])\n",
      "torch.Size([1, 3, 1024, 1024])\n",
      "torch.Size([1, 3, 1024, 1024])\n",
      "torch.Size([1, 3, 1024, 1024])\n",
      "torch.Size([1, 3, 1024, 1024])\n",
      "torch.Size([1, 3, 1024, 1024])\n",
      "torch.Size([1, 3, 1024, 1024])\n",
      "torch.Size([1, 3, 1024, 1024])\n",
      "torch.Size([1, 3, 1024, 1024])\n",
      "torch.Size([1, 3, 1024, 1024])\n",
      "torch.Size([1, 3, 1024, 1024])\n",
      "torch.Size([1, 3, 1024, 1024])\n",
      "torch.Size([1, 3, 1024, 1024])\n",
      "torch.Size([1, 3, 1024, 1024])\n",
      "torch.Size([1, 3, 1024, 1024])\n",
      "torch.Size([1, 3, 1024, 1024])\n",
      "torch.Size([1, 3, 1024, 1024])\n",
      "torch.Size([1, 3, 1024, 1024])\n",
      "torch.Size([1, 3, 1024, 1024])\n",
      "torch.Size([1, 3, 1024, 1024])\n",
      "torch.Size([1, 3, 1024, 1024])\n",
      "torch.Size([1, 3, 1024, 1024])\n",
      "torch.Size([1, 3, 1024, 1024])\n",
      "torch.Size([1, 3, 1024, 1024])\n",
      "torch.Size([1, 3, 1024, 1024])\n",
      "torch.Size([1, 3, 1024, 1024])\n",
      "torch.Size([1, 3, 1024, 1024])\n",
      "torch.Size([1, 3, 1024, 1024])\n",
      "torch.Size([1, 3, 1024, 1024])\n",
      "torch.Size([1, 3, 1024, 1024])\n",
      "torch.Size([1, 3, 1024, 1024])\n",
      "torch.Size([1, 3, 1024, 1024])\n",
      "torch.Size([1, 3, 1024, 1024])\n",
      "torch.Size([1, 3, 1024, 1024])\n",
      "torch.Size([1, 3, 1024, 1024])\n",
      "torch.Size([1, 3, 1024, 1024])\n",
      "torch.Size([1, 3, 1024, 1024])\n",
      "torch.Size([1, 3, 1024, 1024])\n",
      "torch.Size([1, 3, 1024, 1024])\n",
      "torch.Size([1, 3, 1024, 1024])\n",
      "torch.Size([1, 3, 1024, 1024])\n",
      "torch.Size([1, 3, 1024, 1024])\n",
      "torch.Size([1, 3, 1024, 1024])\n",
      "torch.Size([1, 3, 1024, 1024])\n",
      "torch.Size([1, 3, 1024, 1024])\n",
      "torch.Size([1, 3, 1024, 1024])\n",
      "torch.Size([1, 3, 1024, 1024])\n",
      "torch.Size([1, 3, 1024, 1024])\n",
      "torch.Size([1, 3, 1024, 1024])\n",
      "torch.Size([1, 3, 1024, 1024])\n",
      "torch.Size([1, 3, 1024, 1024])\n",
      "torch.Size([1, 3, 1024, 1024])\n",
      "torch.Size([1, 3, 1024, 1024])\n",
      "torch.Size([1, 3, 1024, 1024])\n",
      "torch.Size([1, 3, 1024, 1024])\n",
      "torch.Size([1, 3, 1024, 1024])\n",
      "Traceback (most recent call last):\n",
      "  File \"/home/tupm/.conda/envs/pneumothorax/lib/python3.7/multiprocessing/queues.py\", line 242, in _feed\n",
      "    send_bytes(obj)\n",
      "  File \"/home/tupm/.conda/envs/pneumothorax/lib/python3.7/multiprocessing/connection.py\", line 200, in send_bytes\n",
      "    self._send_bytes(m[offset:offset + size])\n",
      "  File \"/home/tupm/.conda/envs/pneumothorax/lib/python3.7/multiprocessing/connection.py\", line 404, in _send_bytes\n",
      "    self._send(header + buf)\n",
      "  File \"/home/tupm/.conda/envs/pneumothorax/lib/python3.7/multiprocessing/connection.py\", line 368, in _send\n",
      "    n = write(self._handle, buf)\n",
      "BrokenPipeError: [Errno 32] Broken pipe\n",
      "Traceback (most recent call last):\n",
      "  File \"/home/tupm/.conda/envs/pneumothorax/lib/python3.7/multiprocessing/queues.py\", line 242, in _feed\n",
      "    send_bytes(obj)\n",
      "  File \"/home/tupm/.conda/envs/pneumothorax/lib/python3.7/multiprocessing/connection.py\", line 200, in send_bytes\n",
      "    self._send_bytes(m[offset:offset + size])\n",
      "  File \"/home/tupm/.conda/envs/pneumothorax/lib/python3.7/multiprocessing/connection.py\", line 404, in _send_bytes\n",
      "    self._send(header + buf)\n",
      "  File \"/home/tupm/.conda/envs/pneumothorax/lib/python3.7/multiprocessing/connection.py\", line 368, in _send\n",
      "    n = write(self._handle, buf)\n",
      "BrokenPipeError: [Errno 32] Broken pipe\n"
     ]
    },
    {
     "output_type": "error",
     "ename": "KeyboardInterrupt",
     "evalue": "",
     "traceback": [
      "\u001b[0;31m---------------------------------------------------------------------------\u001b[0m",
      "\u001b[0;31mKeyboardInterrupt\u001b[0m                         Traceback (most recent call last)",
      "\u001b[0;32m<ipython-input-7-abfb15c0b385>\u001b[0m in \u001b[0;36m<module>\u001b[0;34m\u001b[0m\n\u001b[1;32m      9\u001b[0m     \u001b[0mprint\u001b[0m\u001b[0;34m(\u001b[0m\u001b[0mimages\u001b[0m\u001b[0;34m.\u001b[0m\u001b[0mshape\u001b[0m\u001b[0;34m)\u001b[0m\u001b[0;34m\u001b[0m\u001b[0m\n\u001b[1;32m     10\u001b[0m     \u001b[0mcv2\u001b[0m\u001b[0;34m.\u001b[0m\u001b[0mimshow\u001b[0m\u001b[0;34m(\u001b[0m\u001b[0;34m\"original\"\u001b[0m\u001b[0;34m,\u001b[0m \u001b[0mnp\u001b[0m\u001b[0;34m.\u001b[0m\u001b[0mreshape\u001b[0m\u001b[0;34m(\u001b[0m\u001b[0mmasks\u001b[0m\u001b[0;34m.\u001b[0m\u001b[0mdetach\u001b[0m\u001b[0;34m(\u001b[0m\u001b[0;34m)\u001b[0m\u001b[0;34m.\u001b[0m\u001b[0mnumpy\u001b[0m\u001b[0;34m(\u001b[0m\u001b[0;34m)\u001b[0m\u001b[0;34m,\u001b[0m \u001b[0;34m(\u001b[0m\u001b[0;36m1024\u001b[0m\u001b[0;34m,\u001b[0m \u001b[0;36m1024\u001b[0m\u001b[0;34m)\u001b[0m\u001b[0;34m)\u001b[0m\u001b[0;34m)\u001b[0m\u001b[0;34m\u001b[0m\u001b[0m\n\u001b[0;32m---> 11\u001b[0;31m     \u001b[0mcv2\u001b[0m\u001b[0;34m.\u001b[0m\u001b[0mwaitKey\u001b[0m\u001b[0;34m(\u001b[0m\u001b[0;36m0\u001b[0m\u001b[0;34m)\u001b[0m\u001b[0;34m\u001b[0m\u001b[0m\n\u001b[0m",
      "\u001b[0;31mKeyboardInterrupt\u001b[0m: "
     ]
    }
   ],
   "source": [
    "for idx, batch in enumerate(trainloader):\n",
    "    images, masks = batch\n",
    "    images = images.to(device).type(torch.float32)\n",
    "    out = model(images)\n",
    "    out = torch.sigmoid(out) \n",
    "    ms = np.reshape(out.cpu().detach().numpy(), (1024, 1024))\n",
    "    ms = np.where(ms > 0.5, 1, 0).astype(np.float32)\n",
    "    cv2.imshow(\"\", ms)\n",
    "    cv2.imshow(\"original\", np.reshape(masks.detach().numpy(), (1024, 1024)))\n",
    "    cv2.waitKey(0)"
   ]
  },
  {
   "cell_type": "code",
   "execution_count": 8,
   "metadata": {},
   "outputs": [],
   "source": [
    "cv2.destroyAllWindows()"
   ]
  },
  {
   "cell_type": "code",
   "execution_count": null,
   "metadata": {},
   "outputs": [],
   "source": []
  },
  {
   "cell_type": "code",
   "execution_count": 5,
   "metadata": {
    "tags": []
   },
   "outputs": [
    {
     "output_type": "stream",
     "name": "stdout",
     "text": [
      "[tensor(0.), tensor(0.), tensor(0.), tensor(0.), tensor(0.), tensor(0.), tensor(0.), tensor(0.)]\n",
      "epoch: 1 |step: 0 | loss: 2.456327438354492 | dice score: 0.0\n",
      "[tensor(0.), tensor(0.), tensor(0.), tensor(0.), tensor(0.), tensor(0.), tensor(0.), tensor(0.)]\n",
      "epoch: 1 |step: 10 | loss: 1.261434555053711 | dice score: 0.0\n",
      "[tensor(0.), tensor(0.), tensor(0.), tensor(0.), tensor(0.), tensor(0.), tensor(0.), tensor(0.)]\n",
      "epoch: 1 |step: 20 | loss: 1.1203171014785767 | dice score: 0.0\n",
      "[tensor(0.), tensor(0.), tensor(0.), tensor(0.), tensor(0.), tensor(0.), tensor(0.), tensor(0.)]\n",
      "epoch: 1 |step: 30 | loss: 1.0909538269042969 | dice score: 0.0\n",
      "Traceback (most recent call last):\n",
      "  File \"/home/tupm/.conda/envs/pneumothorax/lib/python3.7/multiprocessing/queues.py\", line 242, in _feed\n",
      "    send_bytes(obj)\n",
      "Traceback (most recent call last):\n",
      "  File \"/home/tupm/.conda/envs/pneumothorax/lib/python3.7/multiprocessing/connection.py\", line 200, in send_bytes\n",
      "    self._send_bytes(m[offset:offset + size])\n",
      "  File \"/home/tupm/.conda/envs/pneumothorax/lib/python3.7/multiprocessing/connection.py\", line 404, in _send_bytes\n",
      "    self._send(header + buf)\n",
      "  File \"/home/tupm/.conda/envs/pneumothorax/lib/python3.7/multiprocessing/queues.py\", line 242, in _feed\n",
      "    send_bytes(obj)\n",
      "  File \"/home/tupm/.conda/envs/pneumothorax/lib/python3.7/multiprocessing/connection.py\", line 200, in send_bytes\n",
      "    self._send_bytes(m[offset:offset + size])\n",
      "  File \"/home/tupm/.conda/envs/pneumothorax/lib/python3.7/multiprocessing/connection.py\", line 368, in _send\n",
      "    n = write(self._handle, buf)\n",
      "BrokenPipeError: [Errno 32] Broken pipe\n",
      "  File \"/home/tupm/.conda/envs/pneumothorax/lib/python3.7/multiprocessing/connection.py\", line 404, in _send_bytes\n",
      "    self._send(header + buf)\n",
      "  File \"/home/tupm/.conda/envs/pneumothorax/lib/python3.7/multiprocessing/connection.py\", line 368, in _send\n",
      "    n = write(self._handle, buf)\n",
      "BrokenPipeError: [Errno 32] Broken pipe\n"
     ]
    },
    {
     "output_type": "error",
     "ename": "KeyboardInterrupt",
     "evalue": "",
     "traceback": [
      "\u001b[0;31m---------------------------------------------------------------------------\u001b[0m",
      "\u001b[0;31mKeyboardInterrupt\u001b[0m                         Traceback (most recent call last)",
      "\u001b[0;32m<ipython-input-5-196c6afbeb4e>\u001b[0m in \u001b[0;36m<module>\u001b[0;34m\u001b[0m\n\u001b[1;32m     19\u001b[0m             \u001b[0moptimizer\u001b[0m\u001b[0;34m.\u001b[0m\u001b[0mzero_grad\u001b[0m\u001b[0;34m(\u001b[0m\u001b[0;34m)\u001b[0m\u001b[0;34m\u001b[0m\u001b[0m\n\u001b[1;32m     20\u001b[0m \u001b[0;34m\u001b[0m\u001b[0m\n\u001b[0;32m---> 21\u001b[0;31m         \u001b[0moutputs\u001b[0m \u001b[0;34m=\u001b[0m \u001b[0moutputs\u001b[0m\u001b[0;34m.\u001b[0m\u001b[0mdetach\u001b[0m\u001b[0;34m(\u001b[0m\u001b[0;34m)\u001b[0m\u001b[0;34m.\u001b[0m\u001b[0mcpu\u001b[0m\u001b[0;34m(\u001b[0m\u001b[0;34m)\u001b[0m\u001b[0;34m\u001b[0m\u001b[0m\n\u001b[0m\u001b[1;32m     22\u001b[0m         \u001b[0;31m# meter.update(targets, outputs)\u001b[0m\u001b[0;34m\u001b[0m\u001b[0;34m\u001b[0m\u001b[0m\n\u001b[1;32m     23\u001b[0m         \u001b[0;32mif\u001b[0m \u001b[0mitr\u001b[0m \u001b[0;34m%\u001b[0m \u001b[0;36m10\u001b[0m \u001b[0;34m==\u001b[0m \u001b[0;36m0\u001b[0m\u001b[0;34m:\u001b[0m\u001b[0;34m\u001b[0m\u001b[0m\n",
      "\u001b[0;31mKeyboardInterrupt\u001b[0m: "
     ]
    }
   ],
   "source": [
    "num_epochs = 10\n",
    "grad_accum = 10\n",
    "triplets = [[0.5, 100, 0.3], [0.75, 1000, 0.4], [0.75, 2000, 0.3], [0.75, 2000, 0.4], [0.6, 2000, 0.3], [0.6, 2000, 0.4], [0.6, 3000, 0.3], [0.6, 3000, 0.4]]\n",
    "binarizer_fn = TripletMaskBinarization(triplets)\n",
    "for epoch in range(num_epochs):\n",
    "    for itr, batch in enumerate(trainloader):\n",
    "        images, targets = batch\n",
    "        images = images.to(device).type(torch.float32)\n",
    "        masks = targets.to(device)\n",
    "\n",
    "        outputs = model(images)\n",
    "        loss = criterion(outputs, masks)\n",
    "        loss.backward()\n",
    "        # optimizer.step()\n",
    "        # optimizer.zero_grad()\n",
    "\n",
    "        if itr % grad_accum == grad_accum - 1:\n",
    "            optimizer.step()\n",
    "            optimizer.zero_grad()\n",
    "\n",
    "        outputs = outputs.detach().cpu()\n",
    "        # meter.update(targets, outputs)\n",
    "        if itr % 10 == 0:\n",
    "            outputs = torch.sigmoid(outputs)\n",
    "            corrected_mask = binarizer_fn.transform(outputs)\n",
    "\n",
    "            dices = [1 - soft_dice_loss(e.type(torch.float32), targets, per_image=True) for e in corrected_mask]\n",
    "            print(dices)\n",
    "            print(f\"epoch: {epoch+1} |step: {itr} | loss: {loss.item()} | dice score: {max(dices)}\")"
   ]
  },
  {
   "cell_type": "code",
   "execution_count": null,
   "metadata": {},
   "outputs": [],
   "source": [
    "for e in corrected_mask:\n",
    "    print(e.shape)"
   ]
  },
  {
   "cell_type": "code",
   "execution_count": null,
   "metadata": {},
   "outputs": [],
   "source": []
  }
 ]
}